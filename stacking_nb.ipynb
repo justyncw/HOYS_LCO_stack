{
 "cells": [
  {
   "cell_type": "code",
   "execution_count": null,
   "id": "9818af21-08c5-4f50-82b6-20a49615225d",
   "metadata": {},
   "outputs": [],
   "source": [
    "#######################################################\n",
    "#######################################################\n",
    "#python code for stacking\n",
    "#######################################################\n",
    "#######################################################\n",
    "import os\n",
    "import sys\n",
    "import numpy as np\n",
    "import astropy.io.fits as pyfits\n",
    "from astropy.coordinates import ICRS\n",
    "from astropy import units as u\n",
    "from astropy.coordinates import match_coordinates_sky\n",
    "from astropy.coordinates import SkyCoord\n",
    "\n",
    "from scipy import stats\n",
    "from scipy import optimize #Leastsq Levenberg-Marquadt Algorithm\n",
    "from scipy.interpolate import UnivariateSpline\n",
    "from scipy import interpolate\n",
    "#for plotting\n",
    "import matplotlib\n",
    "import matplotlib.pyplot as plt\n",
    "from scipy.signal import medfilt\n",
    "\n",
    "from ipywidgets import interact, interactive, fixed, interact_manual\n",
    "import ipywidgets as widget\n",
    "from IPython.display import Image\n",
    "import MontagePy.main as mon"
   ]
  },
  {
   "cell_type": "code",
   "execution_count": null,
   "id": "21385a6d-ca8e-4b41-9841-f44d5dcbaf6a",
   "metadata": {},
   "outputs": [],
   "source": [
    "user=widget.Text(\n",
    "    value='username',\n",
    "    description='Enter username (no spaces):',\n",
    "    layout={'width': '300px'},style = {'description_width': 'initial'}\n",
    ")\n",
    "display(user)"
   ]
  },
  {
   "cell_type": "code",
   "execution_count": null,
   "id": "b2c9ce97-6157-4d58-9e43-ed4f54bf0c12",
   "metadata": {},
   "outputs": [],
   "source": [
    "raw_images = 'upload_raw_images_here'\n",
    "pathout = 'final_stacked'\n",
    "filters='filters'\n",
    "username=user.value\n"
   ]
  },
  {
   "cell_type": "code",
   "execution_count": null,
   "id": "50f86230-9b1d-4c3f-bbfe-797eefdb6e90",
   "metadata": {},
   "outputs": [],
   "source": [
    "#make list of the files in the archive directory\n",
    "myfilelist = [ ff for ff in np.sort(os.listdir(raw_images)) if '.fits.fz' in ff ]\n",
    "print('list of raw images in upload folder:')\n",
    "myfilelist"
   ]
  },
  {
   "cell_type": "code",
   "execution_count": null,
   "id": "b3fd124b-03c4-400c-8e0b-1354be5a958d",
   "metadata": {},
   "outputs": [],
   "source": [
    "#clean out the to-add directories\n",
    "os.system('rm -rf %s/*' % filters)\n",
    "filtlist=[]\n",
    "#loop over all files and sort them into the correct to-add directories\n",
    "for f in myfilelist:\n",
    "        #read in the files\n",
    "        inhdulist = pyfits.open(raw_images+'/'+f)\n",
    "        #get the filter name and create directory\n",
    "        fil = inhdulist[1].header['FILTER']\n",
    "        objectname = inhdulist[1].header['OBJECT']\n",
    "        filtlist.append(fil)\n",
    "        filter_folder=os.path.join(filters,fil)\n",
    "        if os.path.exists(filter_folder) == False:\n",
    "            os.mkdir(filter_folder)\n",
    "            print('creating directory for filter:',fil)\n",
    "        #save the files in pathout directory\n",
    "        pyfits.writeto(filter_folder+\"/\"+f.strip('.fz'), inhdulist[1].data, inhdulist[1].header)"
   ]
  },
  {
   "cell_type": "code",
   "execution_count": null,
   "id": "bd34d5fe-ed8f-4dc9-b022-17ffede9a462",
   "metadata": {},
   "outputs": [],
   "source": [
    "try:\n",
    "    os.remove('filters/.DS_Store')#remove temp file\n",
    "except:\n",
    "    pass\n",
    "print('List of filters in raw data:')\n",
    "print(list(np.unique(filtlist)))\n",
    "print('for object:',objectname)"
   ]
  },
  {
   "cell_type": "code",
   "execution_count": null,
   "id": "895d7626-d554-457d-9b61-98244d07e4a4",
   "metadata": {},
   "outputs": [],
   "source": [
    "def stack_images(pathlist,fil,pathout,username,objectname):\n",
    "    #for fil in os.listdir(pathlist):\n",
    "    print('---stacking images for filter:',fil)\n",
    "    add_dir = os.path.join(pathlist,fil)\n",
    "    #make list of the files in the toadd directory\n",
    "    myfilelist = [ fff for fff in np.sort(os.listdir(add_dir)) if '.fits' in fff ]\n",
    "\n",
    "    os.system('rm -rf montage_rot')\n",
    "    os.system('rm -rf montage_diff')\n",
    "    os.system('rm -rf montage_corr')\n",
    "    os.system('mkdir montage_rot')\n",
    "    os.system('mkdir montage_diff')\n",
    "    os.system('mkdir montage_corr')\n",
    "\n",
    "    mon.mGetHdr(add_dir+'/'+myfilelist[1],\"master.hdr\")\n",
    "    print('getting fits header')\n",
    "    mon.mImgtbl(add_dir,\"ima.tbl\")\n",
    "    print('creating image table for images to stack')\n",
    "    mon.mProjExec(add_dir,\"ima.tbl\",\"master.hdr\",projdir=\"montage_rot\",debug=1)\n",
    "    print('reprojecting images')\n",
    "    mon.mImgtbl(\"montage_rot\",\"images.tbl\")\n",
    "    print('creating image table for reprojected images')\n",
    "    mon.mOverlaps(\"images.tbl\",\"diffs.tbl\")\n",
    "    print('determining overlaps')\n",
    "    mon.mDiffExec(\"montage_rot\",\"diffs.tbl\",\"master.hdr\",\"montage_diff\")\n",
    "\n",
    "    mon.mFitExec(\"diffs.tbl\", \"fits.tbl\", \"montage_diff\")\n",
    "    print('fitting overlaps')\n",
    "    mon.mBgModel(\"images.tbl\", \"fits.tbl\", \"corrections.tbl\")\n",
    "    print('determining background model')\n",
    "    mon.mBgExec(\"montage_rot\", \"images.tbl\", \"corrections.tbl\", \"montage_corr\")\n",
    "    print('fitting background model')\n",
    "    mon.mAdd(\"montage_corr\", \"images.tbl\", \"master.hdr\" ,\"test.fits\",haveAreas=True,coadd=1)\n",
    "    print('stacking images')\n",
    "\n",
    "    os.system('rm -rf montage_rot')\n",
    "    os.system('rm -rf montage_diff')\n",
    "    os.system('rm -rf montage_corr')\n",
    "    os.system('rm ima.tbl images.tbl diffs.tbl fits.tbl corrections.tbl  master.hdr')\n",
    "    print('removed temp files')\n",
    "\n",
    "    sum_exptime = 0.0\n",
    "    sum_mjd = 0.0\n",
    "    for ffff in myfilelist:\n",
    "            data, header = pyfits.getdata(add_dir+'/'+ffff, header=True)\n",
    "            sum_exptime = sum_exptime + header['EXPTIME']\n",
    "            sum_mjd = sum_mjd + header['MJD-OBS']\n",
    "    #calculate the total exposure time and average mjd\n",
    "    exptime = sum_exptime\n",
    "    mjd = sum_mjd / len(myfilelist)\n",
    "    #read in the stacked file and change the header entries\n",
    "    data, header = pyfits.getdata('test.fits', header=True)\n",
    "    header['EXPTIME'] = exptime\n",
    "    header['MJD-OBS'] = mjd\n",
    "    #write out the changed file\n",
    "    outfilename =  pathout+'/'+'lco_'+objectname+'_'+fil+'_'+username+'.fits'\n",
    "    pyfits.writeto(outfilename, data, header, overwrite=True)\n",
    "    #clean up the directory\n",
    "    os.system(\"rm test.fits *_area.fits\")\n",
    "    print('***finished stacking images***')"
   ]
  },
  {
   "cell_type": "code",
   "execution_count": null,
   "id": "e65eb66e-eb66-4fa2-999f-e3c7006dc85b",
   "metadata": {},
   "outputs": [],
   "source": [
    "fil_select=widget.Dropdown(\n",
    "    options=list(np.unique(filtlist)),\n",
    "    description='Select Filter:'\n",
    ")\n",
    "display(fil_select)"
   ]
  },
  {
   "cell_type": "code",
   "execution_count": null,
   "id": "9235a67a-226a-4540-9dcc-329b8ad26754",
   "metadata": {},
   "outputs": [],
   "source": [
    "stack_images(filters,fil_select.value,pathout,username,objectname)"
   ]
  },
  {
   "cell_type": "code",
   "execution_count": null,
   "id": "ddbe84a6-0dd7-497b-807c-c3b7fb0fe13f",
   "metadata": {},
   "outputs": [],
   "source": [
    "for image in os.listdir(pathout):\n",
    "    if image.endswith('fits'):\n",
    "        file=pathout+'/'+image\n",
    "        mon.mViewer(\"-ct 1 -gray \"+file+\" -2s max gaussian-log -out test.png\", \"\", mode=2)\n",
    "        print('now showing ',image)\n",
    "        display(Image('test.png'))\n",
    "        os.system('rm test.png')"
   ]
  },
  {
   "cell_type": "code",
   "execution_count": null,
   "id": "6ef4acb6-61b8-442c-b6bf-e7ec8b1a9dc3",
   "metadata": {},
   "outputs": [],
   "source": []
  }
 ],
 "metadata": {
  "kernelspec": {
   "display_name": "python_env",
   "language": "python",
   "name": "python_env"
  },
  "language_info": {
   "codemirror_mode": {
    "name": "ipython",
    "version": 3
   },
   "file_extension": ".py",
   "mimetype": "text/x-python",
   "name": "python",
   "nbconvert_exporter": "python",
   "pygments_lexer": "ipython3",
   "version": "3.7.3"
  }
 },
 "nbformat": 4,
 "nbformat_minor": 5
}
