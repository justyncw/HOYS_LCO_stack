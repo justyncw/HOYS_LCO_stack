{
 "cells": [
  {
   "cell_type": "markdown",
   "id": "97dc247e",
   "metadata": {},
   "source": [
    "# Stacking Notebook for HOYS LCO images"
   ]
  },
  {
   "cell_type": "markdown",
   "id": "b577b1f8",
   "metadata": {},
   "source": [
    "Welcome to the stacking notebook for the HOYS LCO Project.\\\n",
    "Please see the video tutorial and upload your images to the 'upload_raw_images_here' folder.\n",
    "Best to upload the compressed images one by one since they are large and may take some time to upload.\n",
    "\n",
    "### Notebook tips:\n",
    "* ***Shift + Enter on a code cell/block to run it and advance to the next cell.***\n",
    "* Can re-run blocks out of order as long as the variables are already there\n",
    "* If python kernal crashses or out of memory, use the reset button above to reset the kernal."
   ]
  },
  {
   "cell_type": "code",
   "execution_count": null,
   "id": "c052fea0",
   "metadata": {},
   "outputs": [],
   "source": [
    "!pip install MontagePy"
   ]
  },
  {
   "cell_type": "code",
   "execution_count": null,
   "id": "4563baab",
   "metadata": {},
   "outputs": [],
   "source": [
    "import os\n",
    "import sys\n",
    "import numpy as np\n",
    "import astropy.io.fits as pyfits\n",
    "from astropy.coordinates import ICRS\n",
    "from astropy import units as u\n",
    "from astropy.coordinates import match_coordinates_sky\n",
    "from astropy.coordinates import SkyCoord\n",
    "\n",
    "from scipy import stats\n",
    "from scipy import optimize #Leastsq Levenberg-Marquadt Algorithm\n",
    "from scipy.interpolate import UnivariateSpline\n",
    "from scipy import interpolate\n",
    "#for plotting\n",
    "import matplotlib\n",
    "import matplotlib.pyplot as plt\n",
    "from scipy.signal import medfilt\n",
    "\n",
    "from ipywidgets import interact, interactive, fixed, interact_manual\n",
    "import ipywidgets as widget\n",
    "from IPython.display import Image\n",
    "import MontagePy.main as mon"
   ]
  },
  {
   "cell_type": "markdown",
   "id": "ff07aade",
   "metadata": {},
   "source": [
    "* Enter username to append to final stacked images filename, please do not use spaces\n",
    "* *Do not re run code blocks with text entry or selection boxes, this will reset the box to default value*\n",
    "* *The value entereed or selected in the boxes will automatically update once shown*"
   ]
  },
  {
   "cell_type": "code",
   "execution_count": null,
   "id": "b7997c51",
   "metadata": {},
   "outputs": [],
   "source": [
    "user=widget.Text(\n",
    "    value='username',\n",
    "    description='Enter username (no spaces):',\n",
    "    layout={'width': '300px'},style = {'description_width': 'initial'}\n",
    ")\n",
    "display(user)"
   ]
  },
  {
   "cell_type": "markdown",
   "id": "a37d38f8",
   "metadata": {},
   "source": [
    "* Set working directories and list raw files uploaded.\n",
    "* If no files listed, please check/re-upload images"
   ]
  },
  {
   "cell_type": "code",
   "execution_count": null,
   "id": "60ed37ff",
   "metadata": {},
   "outputs": [],
   "source": [
    "#if running on google colab, create directories\n",
    "os.mkdir('final_stacked')\n",
    "os.mkdir('filters')\n",
    "os.mkdir('upload_raw_images_here')"
   ]
  },
  {
   "cell_type": "code",
   "execution_count": null,
   "id": "97d04265",
   "metadata": {},
   "outputs": [],
   "source": [
    "raw_images = 'upload_raw_images_here'\n",
    "pathout = 'final_stacked'\n",
    "filters='filters'\n",
    "username=user.value\n",
    "rep_char='. '\n",
    "for char in rep_char:\n",
    "    username=username.replace(char,'')\n",
    "if username == 'username':\n",
    "    print('!!! please set username in textbox above and rerun this block!!!')\n",
    "\n",
    "myfilelist = [ ff for ff in np.sort(os.listdir(raw_images)) if '.fits' in ff ]\n",
    "print('list of raw images in upload folder:')\n",
    "myfilelist"
   ]
  },
  {
   "cell_type": "markdown",
   "id": "0b67eeae",
   "metadata": {},
   "source": [
    "* Clean working directories and move raw images to folder by filter"
   ]
  },
  {
   "cell_type": "code",
   "execution_count": null,
   "id": "ba84e9af",
   "metadata": {},
   "outputs": [],
   "source": [
    "#clean out the to-add directories\n",
    "os.system('rm -rf %s/*' % filters)\n",
    "filtlist=[]\n",
    "objlist=[]\n",
    "#loop over all files and sort them into the correct to-add directories\n",
    "for f in myfilelist:\n",
    "        #read in the files\n",
    "        inhdulist = pyfits.open(raw_images+'/'+f)\n",
    "        #get the filter name and create directory\n",
    "        try:\n",
    "            fil = inhdulist[0].header['FILTER']\n",
    "            objectname = inhdulist[0].header['OBJECT']\n",
    "            hdu_idx=0\n",
    "        except: #depending on the fits file is compressed or older, primary index may be different\n",
    "            fil = inhdulist[1].header['FILTER']\n",
    "            objectname = inhdulist[1].header['OBJECT']\n",
    "            hdu_idx=1\n",
    "        objectname=objectname.replace(' ','')\n",
    "        filtlist.append(fil)\n",
    "        objlist.append(objectname)\n",
    "        filter_folder=os.path.join(filters,fil)\n",
    "        if os.path.exists(filter_folder) == False:\n",
    "            os.mkdir(filter_folder)\n",
    "            print('creating directory for filter:',fil)\n",
    "        #save the files in pathout directory\n",
    "        pyfits.writeto(filter_folder+\"/\"+f.strip('.fz'), inhdulist[hdu_idx].data, inhdulist[hdu_idx].header)"
   ]
  },
  {
   "cell_type": "markdown",
   "id": "da383993",
   "metadata": {},
   "source": [
    "* List filters of raw data and check that all images from same object"
   ]
  },
  {
   "cell_type": "code",
   "execution_count": null,
   "id": "9b0f42bc",
   "metadata": {},
   "outputs": [],
   "source": [
    "try:\n",
    "    os.remove('filters/.DS_Store')#remove temp file\n",
    "except:\n",
    "    pass\n",
    "print('List of filters in raw data:')\n",
    "print(list(np.unique(filtlist)))\n",
    "print('for object:',list(np.unique(objlist)))\n",
    "if len(np.unique(objlist)) >1:\n",
    "    print('wanring: more than one object name detected, check if different objects!')"
   ]
  },
  {
   "cell_type": "markdown",
   "id": "6269655c",
   "metadata": {},
   "source": [
    "* Function to stack the images using the python montage wrapper"
   ]
  },
  {
   "cell_type": "code",
   "execution_count": null,
   "id": "c6d374b3",
   "metadata": {},
   "outputs": [],
   "source": [
    "def stack_images(pathlist, fil, pathout, username, objectname):\n",
    "    # For each filter in the pathlist\n",
    "    print('---stacking images for filter:', fil)\n",
    "    add_dir = os.path.join(pathlist, fil)\n",
    "    # Make list of the files in the directory\n",
    "    myfilelist = [fff for fff in np.sort(os.listdir(add_dir)) if '.fits' in fff]\n",
    "\n",
    "    os.system('rm -rf montage_rot')\n",
    "    os.system('rm -rf montage_diff')\n",
    "    os.system('rm -rf montage_corr')\n",
    "    os.system('mkdir montage_rot')\n",
    "    os.system('mkdir montage_diff')\n",
    "    os.system('mkdir montage_corr')\n",
    "\n",
    "    print('getting fits header')\n",
    "    mon.mGetHdr(add_dir + '/' + myfilelist[1], \"master.hdr\")\n",
    "    print('creating image table for images to stack')\n",
    "    mon.mImgtbl(add_dir, \"ima.tbl\")\n",
    "    print('reprojecting images')\n",
    "    mon.mProjExec(add_dir, \"ima.tbl\", \"master.hdr\", projdir=\"montage_rot\", debug=1)\n",
    "    print('creating image table for reprojected images')\n",
    "    mon.mImgtbl(\"montage_rot\", \"images.tbl\")\n",
    "    mon.mOverlaps(\"images.tbl\", \"diffs.tbl\")\n",
    "    print('determining overlaps')\n",
    "    mon.mDiffExec(\"montage_rot\", \"diffs.tbl\", \"master.hdr\", \"montage_diff\")\n",
    "\n",
    "    print('fitting overlaps')    \n",
    "    mon.mFitExec(\"diffs.tbl\", \"fits.tbl\", \"montage_diff\")\n",
    "    \n",
    "    # The missing fourth argument is fit_options, which can be an empty string if no specific options are needed\n",
    "    print('determining background model')    \n",
    "    mon.mBgModel(\"images.tbl\", \"fits.tbl\", \"corrections.tbl\", \"\")\n",
    "    print('fitting background model')\n",
    "    mon.mBgExec(\"montage_rot\", \"images.tbl\", \"corrections.tbl\", \"montage_corr\")\n",
    "    print('stacking images')\n",
    "    mon.mAdd(\"montage_corr\", \"images.tbl\", \"master.hdr\", \"test.fits\", haveAreas=True, coadd=1)\n",
    "\n",
    "    os.system('rm -rf montage_rot')\n",
    "    os.system('rm -rf montage_diff')\n",
    "    os.system('rm -rf montage_corr')\n",
    "    os.system('rm ima.tbl images.tbl diffs.tbl fits.tbl corrections.tbl master.hdr')\n",
    "    print('removed temp files')\n",
    "\n",
    "    sum_exptime = 0.0\n",
    "    sum_mjd = 0.0\n",
    "    for ffff in myfilelist:\n",
    "        data = pyfits.open(add_dir + '/' + ffff)\n",
    "        try:\n",
    "            sum_exptime += data[0].header['EXPTIME']\n",
    "            sum_mjd += data[0].header['MJD-OBS']\n",
    "        except:\n",
    "            sum_exptime += data[1].header['EXPTIME']\n",
    "            sum_mjd += data[1].header['MJD-OBS']\n",
    "    \n",
    "    # Calculate the total exposure time and average MJD\n",
    "    exptime = sum_exptime\n",
    "    mjd = sum_mjd / len(myfilelist)\n",
    "    \n",
    "    # Read in the stacked file and change the header entries\n",
    "    data, header = pyfits.getdata('test.fits', header=True)\n",
    "    header['EXPTIME'] = exptime\n",
    "    header['MJD-OBS'] = mjd\n",
    "    \n",
    "    # Write out the changed file\n",
    "    outfilename = os.path.join(pathout, f'lco_{objectname}_{fil}_{username}.fits')\n",
    "    pyfits.writeto(outfilename, data, header, overwrite=True)\n",
    "    \n",
    "    # Clean up the directory\n",
    "    os.system(\"rm test.fits *_area.fits\")\n",
    "    print('***finished stacking images***')\n"
   ]
  },
  {
   "cell_type": "markdown",
   "id": "a4995ffe",
   "metadata": {},
   "source": [
    "* Check which filter is selected from dropdown menu"
   ]
  },
  {
   "cell_type": "code",
   "execution_count": null,
   "id": "dcb35a31",
   "metadata": {},
   "outputs": [],
   "source": [
    "fil_select=widget.Dropdown(\n",
    "    options=list(np.unique(filtlist)),\n",
    "    description='Select Filter:'\n",
    ")\n",
    "display(fil_select)"
   ]
  },
  {
   "cell_type": "markdown",
   "id": "0b9abdf5",
   "metadata": {},
   "source": [
    "* Stack images for selected filter\n",
    "* This may take a some time to produce an output"
   ]
  },
  {
   "cell_type": "code",
   "execution_count": null,
   "id": "33f312ec",
   "metadata": {},
   "outputs": [],
   "source": [
    "stack_images(filters,fil_select.value,pathout,username,objectname)"
   ]
  },
  {
   "cell_type": "markdown",
   "id": "20240b49",
   "metadata": {},
   "source": [
    "* Display image of final stacked fits files"
   ]
  },
  {
   "cell_type": "code",
   "execution_count": null,
   "id": "ab8a707a-a660-45c9-8da1-e1fa828a7f96",
   "metadata": {},
   "outputs": [],
   "source": [
    "import os\n",
    "from astropy.io import fits\n",
    "import matplotlib.pyplot as plt\n",
    "from matplotlib.colors import PowerNorm\n",
    "import numpy as np\n",
    "import ipywidgets as widgets\n",
    "from IPython.display import display\n",
    "\n",
    "# Function to display the image with specified gamma and vmax\n",
    "def display_image(gamma=0.3, vmax_percentile=99.999):\n",
    "    # Update the data to be visualized based on the selected image\n",
    "    fits_file = os.path.join(pathout, selected_image.value)\n",
    "    \n",
    "    # Open the FITS file\n",
    "    hdulist = fits.open(fits_file)\n",
    "    \n",
    "    # Get the data from the primary HDU (Header/Data Unit)\n",
    "    image_data = hdulist[0].data\n",
    "    \n",
    "    # Close the FITS file after loading data\n",
    "    hdulist.close()\n",
    "\n",
    "    # Replace NaNs with zero\n",
    "    image_data = np.nan_to_num(image_data, nan=0.0)\n",
    "\n",
    "    # Calculate the minimum positive value in the data\n",
    "    positive_values = image_data[image_data > 0]\n",
    "    if len(positive_values) > 0:\n",
    "        min_val = np.min(positive_values)\n",
    "    else:\n",
    "        min_val = 0.1  # or some other small positive value\n",
    "\n",
    "    # Set vmax to the specified percentile of the data\n",
    "    vmax = np.percentile(image_data, vmax_percentile)\n",
    "    \n",
    "    # Display the image data with matplotlib using PowerNorm\n",
    "    plt.figure(figsize=(10,8))\n",
    "    plt.imshow(image_data, cmap='gray', origin='lower', norm=PowerNorm(gamma=gamma, vmin=min_val, vmax=vmax))\n",
    "    plt.colorbar()\n",
    "    plt.title(f'FITS Image with Power-Law Stretch (gamma={gamma}, vmax_percentile={vmax_percentile})')\n",
    "    plt.xlabel('X Pixel')\n",
    "    plt.ylabel('Y Pixel')\n",
    "    plt.show()\n",
    "\n",
    "# List of FITS files in the directory\n",
    "fits_files = [f for f in os.listdir(pathout) if f.endswith('.fits')]\n",
    "\n",
    "# Widgets for selecting image and adjusting gamma and vmax\n",
    "selected_image = widgets.Dropdown(options=fits_files, description='FITS Image:')\n",
    "gamma_slider = widgets.FloatSlider(value=0.3, min=0.01, max=1, step=0.01, description='Gamma:', continuous_update=False)\n",
    "vmax_slider = widgets.FloatSlider(value=99.999, min=50.0, max=100.0, step=0.1, description='vmax percentile:', continuous_update=False)\n",
    "\n",
    "# Display widgets and interactive plot\n",
    "ui = widgets.VBox([selected_image, gamma_slider, vmax_slider])\n",
    "out = widgets.interactive_output(display_image, {'gamma': gamma_slider, 'vmax_percentile': vmax_slider})\n",
    "\n",
    "display(ui, out)\n"
   ]
  }
 ],
 "metadata": {
  "kernelspec": {
   "display_name": "Python 3 (ipykernel)",
   "language": "python",
   "name": "python3"
  },
  "language_info": {
   "codemirror_mode": {
    "name": "ipython",
    "version": 3
   },
   "file_extension": ".py",
   "mimetype": "text/x-python",
   "name": "python",
   "nbconvert_exporter": "python",
   "pygments_lexer": "ipython3",
   "version": "3.9.6"
  }
 },
 "nbformat": 4,
 "nbformat_minor": 5
}
